{
 "cells": [
  {
   "cell_type": "code",
   "execution_count": 4,
   "id": "69472ddf636e4b4a",
   "metadata": {
    "collapsed": false,
    "ExecuteTime": {
     "end_time": "2024-03-31T01:28:45.475663Z",
     "start_time": "2024-03-31T01:28:45.466289Z"
    }
   },
   "outputs": [],
   "source": [
    "import numpy as np\n",
    "from utils import Utils\n",
    "import scipy"
   ]
  },
  {
   "cell_type": "code",
   "outputs": [],
   "source": [
    "theta = 0.57"
   ],
   "metadata": {
    "collapsed": false,
    "ExecuteTime": {
     "end_time": "2024-03-31T01:28:45.658120Z",
     "start_time": "2024-03-31T01:28:45.651184Z"
    }
   },
   "id": "865abbb2201f6792",
   "execution_count": 5
  },
  {
   "cell_type": "code",
   "outputs": [],
   "source": [],
   "metadata": {
    "collapsed": false
   },
   "id": "d1eba730623d0d2"
  }
 ],
 "metadata": {
  "kernelspec": {
   "display_name": "Python 3",
   "language": "python",
   "name": "python3"
  },
  "language_info": {
   "codemirror_mode": {
    "name": "ipython",
    "version": 3
   },
   "file_extension": ".py",
   "mimetype": "text/x-python",
   "name": "python",
   "nbconvert_exporter": "python",
   "pygments_lexer": "ipython3",
   "version": "3.8.0"
  }
 },
 "nbformat": 4,
 "nbformat_minor": 5
}
