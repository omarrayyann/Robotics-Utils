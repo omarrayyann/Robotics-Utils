{
 "cells": [
  {
   "cell_type": "code",
   "outputs": [],
   "source": [
    "import numpy as np\n",
    "from utils import Utils"
   ],
   "metadata": {
    "collapsed": false
   },
   "id": "69472ddf636e4b4a"
  },
  {
   "cell_type": "code",
   "outputs": [],
   "source": [
    "R_0 = np.array([[0.62802581, -0.66368827, -0.40632679], [-0.74459591, -0.36072926, -0.56165055], [0.22618692, 0.65528030, -0.72072686]])\n",
    "R_1 = np.array([[-0.69694541, 0.71444254, 0.01607858], [-0.03785253, 0.56868150, -0.01722053], [-0.84238739, -0.33321527, 0.86689330]])\n",
    "R_2 = np.array([[-0.03462962, -0.82574949, -0.25034989], [0.74003479, -0.36703212, -0.17310211], [0.54139482, -0.44531970, -0.64714007]])\n",
    "R_3 = np.array([[0.62802581, -0.74459591, 0.22618692], [-0.66368827, -0.36072926, 0.65528030], [-0.40632679, -0.56165055, -0.72072686]])"
   ],
   "metadata": {
    "collapsed": false,
    "ExecuteTime": {
     "end_time": "2024-02-03T17:01:38.594547Z",
     "start_time": "2024-02-03T17:01:38.588929Z"
    }
   },
   "id": "70e3a3e513181790",
   "execution_count": 2
  },
  {
   "cell_type": "code",
   "outputs": [
    {
     "name": "stdout",
     "output_type": "stream",
     "text": [
      "[[-0.69694541  0.71444254  0.01607858]\n",
      " [-0.03785253  0.5686815  -0.01722053]\n",
      " [-0.84238739 -0.33321527  0.8668933 ]]\n"
     ]
    }
   ],
   "source": [
    "print(R_1)"
   ],
   "metadata": {
    "collapsed": false,
    "ExecuteTime": {
     "end_time": "2024-02-03T17:11:21.178712Z",
     "start_time": "2024-02-03T17:11:21.175369Z"
    }
   },
   "id": "c17deb11166e8bcf",
   "execution_count": 9
  },
  {
   "cell_type": "code",
   "outputs": [
    {
     "name": "stdout",
     "output_type": "stream",
     "text": [
      "True\n"
     ]
    }
   ],
   "source": [
    "print(Utils().is_rotation_matrix(R_3))"
   ],
   "metadata": {
    "collapsed": false,
    "ExecuteTime": {
     "end_time": "2024-02-03T17:01:38.730514Z",
     "start_time": "2024-02-03T17:01:38.726872Z"
    }
   },
   "id": "fbfd82c020545c5d",
   "execution_count": 3
  },
  {
   "cell_type": "code",
   "outputs": [
    {
     "name": "stdout",
     "output_type": "stream",
     "text": [
      "[[ 0.62802581 -0.66368828 -0.40632679]\n",
      " [-0.7445959  -0.36072926 -0.56165054]\n",
      " [ 0.22618692  0.65528031 -0.72072685]]\n"
     ]
    }
   ],
   "source": [
    "print(np.linalg.inv(R_3))"
   ],
   "metadata": {
    "collapsed": false,
    "ExecuteTime": {
     "end_time": "2024-02-03T16:54:58.549586Z",
     "start_time": "2024-02-03T16:54:58.543568Z"
    }
   },
   "id": "f6925f5a82c246fd",
   "execution_count": 16
  },
  {
   "cell_type": "code",
   "outputs": [
    {
     "name": "stdout",
     "output_type": "stream",
     "text": [
      "[[ 0.62802581 -0.66368827 -0.40632679]\n",
      " [-0.74459591 -0.36072926 -0.56165055]\n",
      " [ 0.22618692  0.6552803  -0.72072686]]\n"
     ]
    }
   ],
   "source": [
    "print(R_0)"
   ],
   "metadata": {
    "collapsed": false,
    "ExecuteTime": {
     "end_time": "2024-02-03T16:54:59.133005Z",
     "start_time": "2024-02-03T16:54:59.128475Z"
    }
   },
   "id": "65eab5b6fecb1a3a",
   "execution_count": 17
  },
  {
   "cell_type": "code",
   "outputs": [
    {
     "name": "stdout",
     "output_type": "stream",
     "text": [
      "[[ 9.99999998e-01 -5.90942242e-09  6.46290360e-09]\n",
      " [-5.90942242e-09  1.00000001e+00  4.07969775e-09]\n",
      " [ 6.46290360e-09  4.07969775e-09  1.00000000e+00]]\n"
     ]
    }
   ],
   "source": [
    "print(R_0@R_3)"
   ],
   "metadata": {
    "collapsed": false,
    "ExecuteTime": {
     "end_time": "2024-02-03T16:55:19.982150Z",
     "start_time": "2024-02-03T16:55:19.979736Z"
    }
   },
   "id": "ce2e1416f0f94acc",
   "execution_count": 18
  },
  {
   "cell_type": "code",
   "outputs": [],
   "source": [
    "utils = Utils(radians=False)"
   ],
   "metadata": {
    "collapsed": false,
    "ExecuteTime": {
     "end_time": "2024-02-03T17:01:43.761244Z",
     "start_time": "2024-02-03T17:01:43.751784Z"
    }
   },
   "id": "8ff5f802ec21d32f",
   "execution_count": 4
  },
  {
   "cell_type": "code",
   "outputs": [
    {
     "name": "stdout",
     "output_type": "stream",
     "text": [
      "[[ 0.8660254 -0.5      ]\n",
      " [ 0.5        0.8660254]]\n"
     ]
    }
   ],
   "source": [
    "print(utils.rotation_matrix_2d(30))"
   ],
   "metadata": {
    "collapsed": false,
    "ExecuteTime": {
     "end_time": "2024-02-03T17:11:45.108364Z",
     "start_time": "2024-02-03T17:11:45.101140Z"
    }
   },
   "id": "11d98ef5846aac6",
   "execution_count": 10
  },
  {
   "cell_type": "code",
   "outputs": [],
   "source": [
    "import numpy as np\n",
    "\n",
    "R1 = np.array([[0.95886376, -0.10709918, 0.35470994], [-0.07327819, 0.95377089, 0.55189139], [-0.38968703, -0.38673707, 0.69155479]])\n",
    "R2 = np.array([[0.52498888, -0.36130326, 0.77061445], [0.58862909, 0.80810025, -0.02213100], [-0.61473773, 0.46522461, 0.63691725]])\n",
    "R3 = np.array([[0.05007299, -0.48318452, -1.06681360], [0.98462005, -0.26138168, 0.10022485], [-0.44397290, -1.01400812, 0.29167828]])\n",
    "R4 = np.array([[-0.53376369, 0.29725642, -1.12663754], [-0.06448341, -1.04313459, -0.20270837], [-0.91820193, -0.12894428, 0.33887770]])\n",
    "R5 = np.array([[0.34823471, 0.33733891, 0.97556691], [0.49368834, 0.77047807, -0.29278726], [-0.91870795, 0.62585926, 0.03628586]])"
   ],
   "metadata": {
    "collapsed": false,
    "ExecuteTime": {
     "end_time": "2024-02-03T17:33:35.615706Z",
     "start_time": "2024-02-03T17:33:35.612875Z"
    }
   },
   "id": "c982924eb9b1d9e5",
   "execution_count": 11
  },
  {
   "cell_type": "code",
   "outputs": [
    {
     "name": "stdout",
     "output_type": "stream",
     "text": [
      "True\n"
     ]
    }
   ],
   "source": [
    "print(utils.is_rotation_matrix(R2))"
   ],
   "metadata": {
    "collapsed": false,
    "ExecuteTime": {
     "end_time": "2024-02-03T17:34:00.338547Z",
     "start_time": "2024-02-03T17:34:00.327691Z"
    }
   },
   "id": "2ddfae8c5e0a7d89",
   "execution_count": 17
  },
  {
   "cell_type": "code",
   "outputs": [],
   "source": [
    "import numpy as np\n",
    "\n",
    "R_67 = np.array([[0.03836700, -0.83366882, -0.55093036], [0.66824096, -0.38851438, 0.63443723], [-0.74295491, -0.39249569, 0.54218552]])\n",
    "p_7 = np.array([[-0.06418931], [0.82033795], [0.25627231]])"
   ],
   "metadata": {
    "collapsed": false,
    "ExecuteTime": {
     "end_time": "2024-02-03T17:37:25.167003Z",
     "start_time": "2024-02-03T17:37:25.155115Z"
    }
   },
   "id": "7978aa910252cded",
   "execution_count": 28
  },
  {
   "cell_type": "code",
   "outputs": [],
   "source": [
    "R_62 = np.transpose(R_26)"
   ],
   "metadata": {
    "collapsed": false,
    "ExecuteTime": {
     "end_time": "2024-02-03T17:36:56.634595Z",
     "start_time": "2024-02-03T17:36:56.626058Z"
    }
   },
   "id": "69f0a2faf804df5a",
   "execution_count": 26
  },
  {
   "cell_type": "code",
   "outputs": [
    {
     "name": "stdout",
     "output_type": "stream",
     "text": [
      "[[-0.82754112]\n",
      " [-0.19901832]\n",
      " [-0.13534221]]\n"
     ]
    }
   ],
   "source": [
    "print(R_67@p_7)"
   ],
   "metadata": {
    "collapsed": false,
    "ExecuteTime": {
     "end_time": "2024-02-03T17:37:31.824202Z",
     "start_time": "2024-02-03T17:37:31.813477Z"
    }
   },
   "id": "2d236c3c2126dfdd",
   "execution_count": 29
  },
  {
   "cell_type": "code",
   "outputs": [],
   "source": [],
   "metadata": {
    "collapsed": false
   },
   "id": "e5b0bc9ecef758fc"
  }
 ],
 "metadata": {
  "kernelspec": {
   "display_name": "Python 3",
   "language": "python",
   "name": "python3"
  },
  "language_info": {
   "codemirror_mode": {
    "name": "ipython",
    "version": 2
   },
   "file_extension": ".py",
   "mimetype": "text/x-python",
   "name": "python",
   "nbconvert_exporter": "python",
   "pygments_lexer": "ipython2",
   "version": "2.7.6"
  }
 },
 "nbformat": 4,
 "nbformat_minor": 5
}
