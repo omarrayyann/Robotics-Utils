{
 "cells": [
  {
   "cell_type": "code",
   "execution_count": 1,
   "id": "69472ddf636e4b4a",
   "metadata": {
    "collapsed": false,
    "ExecuteTime": {
     "end_time": "2024-03-31T04:04:30.129825Z",
     "start_time": "2024-03-31T04:04:29.997486Z"
    }
   },
   "outputs": [],
   "source": [
    "import numpy as np\n",
    "from utils import Utils\n",
    "import scipy"
   ]
  },
  {
   "cell_type": "code",
   "outputs": [],
   "source": [
    "import numpy as np\n",
    "\n",
    "theta = np.array([0.70,0.54,-0.27])"
   ],
   "metadata": {
    "collapsed": false,
    "ExecuteTime": {
     "end_time": "2024-03-31T04:24:22.799870Z",
     "start_time": "2024-03-31T04:24:22.793546Z"
    }
   },
   "id": "865abbb2201f6792",
   "execution_count": 59
  },
  {
   "cell_type": "code",
   "outputs": [],
   "source": [
    "T_0_j1 = Utils.homogeneous_matrix(None,Utils.translation(theta[0],0.0,2.0))\n",
    "T_j1_j2 = Utils.homogeneous_matrix(None,Utils.translation(0.0,-2.0,-2.0-theta[1]))\n",
    "T_j2_j3 = Utils.homogeneous_matrix(None,Utils.translation(0.0,-2.0,theta[2]-2.0))\n",
    "T_j3_final = Utils.homogeneous_matrix(Utils.rotation_matrix_x(np.pi/2),Utils.translation(0.0,0.0,2.0))"
   ],
   "metadata": {
    "collapsed": false,
    "ExecuteTime": {
     "end_time": "2024-03-31T04:25:19.252099Z",
     "start_time": "2024-03-31T04:25:19.245177Z"
    }
   },
   "id": "d1eba730623d0d2",
   "execution_count": 60
  },
  {
   "cell_type": "code",
   "outputs": [
    {
     "name": "stdout",
     "output_type": "stream",
     "text": [
      "[[0.]\n",
      " [0.]\n",
      " [0.]\n",
      " [1.]\n",
      " [0.]\n",
      " [0.]]\n"
     ]
    }
   ],
   "source": [
    "T_j1_final = T_j1_j2 @ T_j2_j3 @ T_j3_final\n",
    "V_j1 = Utils.adjoint(Utils.inverse_homogeneous_matrix(T_j1_final)) @ Utils.to_twist_vector(np.array([1.0,0.0,0.0]),np.array([0.0,0.0,0.0]))\n",
    "print(V_j1)"
   ],
   "metadata": {
    "collapsed": false,
    "ExecuteTime": {
     "end_time": "2024-03-31T04:25:25.827398Z",
     "start_time": "2024-03-31T04:25:25.817880Z"
    }
   },
   "id": "3ba52a01b1f3b4f2",
   "execution_count": 61
  },
  {
   "cell_type": "code",
   "outputs": [
    {
     "name": "stdout",
     "output_type": "stream",
     "text": [
      "[[ 0.000000e+00]\n",
      " [ 0.000000e+00]\n",
      " [ 0.000000e+00]\n",
      " [ 0.000000e+00]\n",
      " [-1.000000e+00]\n",
      " [-6.123234e-17]]\n"
     ]
    }
   ],
   "source": [
    "T_j2_final = T_j2_j3 @ T_j3_final\n",
    "V_j2 = Utils.adjoint(Utils.inverse_homogeneous_matrix(T_j2_final)) @ Utils.to_twist_vector(np.array([0.0,0.0,-1.0]),np.array([0.0,0.0,0.0]))\n",
    "print(V_j2)"
   ],
   "metadata": {
    "collapsed": false,
    "ExecuteTime": {
     "end_time": "2024-03-31T04:25:26.956724Z",
     "start_time": "2024-03-31T04:25:26.946135Z"
    }
   },
   "id": "43262c24f1ca997e",
   "execution_count": 62
  },
  {
   "cell_type": "code",
   "outputs": [
    {
     "name": "stdout",
     "output_type": "stream",
     "text": [
      "[[0.000000e+00]\n",
      " [0.000000e+00]\n",
      " [0.000000e+00]\n",
      " [0.000000e+00]\n",
      " [1.000000e+00]\n",
      " [6.123234e-17]]\n"
     ]
    }
   ],
   "source": [
    "T_j3_final = T_j3_final\n",
    "V_j3 = Utils.adjoint(Utils.inverse_homogeneous_matrix(T_j3_final)) @ Utils.to_twist_vector(np.array([0.0,0.0,1.0]),np.array([0.0,0.0,0.0]))\n",
    "print(V_j3)"
   ],
   "metadata": {
    "collapsed": false,
    "ExecuteTime": {
     "end_time": "2024-03-31T04:25:34.899199Z",
     "start_time": "2024-03-31T04:25:34.889289Z"
    }
   },
   "id": "732f534caefe8ee4",
   "execution_count": 63
  },
  {
   "cell_type": "code",
   "outputs": [
    {
     "name": "stdout",
     "output_type": "stream",
     "text": [
      "[[ 0.000000e+00  0.000000e+00  0.000000e+00]\n",
      " [ 0.000000e+00  0.000000e+00  0.000000e+00]\n",
      " [ 0.000000e+00  0.000000e+00  0.000000e+00]\n",
      " [ 1.000000e+00  0.000000e+00  0.000000e+00]\n",
      " [ 0.000000e+00 -1.000000e+00  1.000000e+00]\n",
      " [ 0.000000e+00 -6.123234e-17  6.123234e-17]]\n"
     ]
    }
   ],
   "source": [
    "a = []  \n",
    "a = print(np.array(np.block([V_j1,V_j2,V_j3])))"
   ],
   "metadata": {
    "collapsed": false,
    "ExecuteTime": {
     "end_time": "2024-03-31T04:25:35.787179Z",
     "start_time": "2024-03-31T04:25:35.777344Z"
    }
   },
   "id": "f10eb292351365e8",
   "execution_count": 64
  },
  {
   "cell_type": "code",
   "outputs": [],
   "source": [],
   "metadata": {
    "collapsed": false,
    "ExecuteTime": {
     "end_time": "2024-03-31T04:13:48.572358Z",
     "start_time": "2024-03-31T04:13:48.568452Z"
    }
   },
   "id": "59922fafd5c71aff",
   "execution_count": 38
  },
  {
   "cell_type": "code",
   "outputs": [],
   "source": [],
   "metadata": {
    "collapsed": false,
    "ExecuteTime": {
     "end_time": "2024-03-31T04:04:30.170325Z",
     "start_time": "2024-03-31T04:04:30.165653Z"
    }
   },
   "id": "33aa940c3694d8a2",
   "execution_count": 7
  }
 ],
 "metadata": {
  "kernelspec": {
   "display_name": "Python 3",
   "language": "python",
   "name": "python3"
  },
  "language_info": {
   "codemirror_mode": {
    "name": "ipython",
    "version": 3
   },
   "file_extension": ".py",
   "mimetype": "text/x-python",
   "name": "python",
   "nbconvert_exporter": "python",
   "pygments_lexer": "ipython3",
   "version": "3.8.0"
  }
 },
 "nbformat": 4,
 "nbformat_minor": 5
}
